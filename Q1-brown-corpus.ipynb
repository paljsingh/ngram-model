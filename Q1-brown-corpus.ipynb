{
 "cells": [
  {
   "cell_type": "code",
   "execution_count": 7,
   "id": "b8a5fdd4",
   "metadata": {},
   "outputs": [],
   "source": [
    "import nltk\n",
    "from nltk.tokenize import RegexpTokenizer\n",
    "from collections import defaultdict\n",
    "from nltk.stem import WordNetLemmatizer\n",
    "from nltk import pos_tag\n"
   ]
  },
  {
   "cell_type": "code",
   "execution_count": 8,
   "id": "075f99cd",
   "metadata": {},
   "outputs": [
    {
     "name": "stderr",
     "output_type": "stream",
     "text": [
      "[nltk_data] Downloading package brown to\n",
      "[nltk_data]     /Users/jitender.singh/nltk_data...\n",
      "[nltk_data]   Package brown is already up-to-date!\n",
      "[nltk_data] Downloading package punkt to\n",
      "[nltk_data]     /Users/jitender.singh/nltk_data...\n",
      "[nltk_data]   Package punkt is already up-to-date!\n",
      "[nltk_data] Downloading package wordnet to\n",
      "[nltk_data]     /Users/jitender.singh/nltk_data...\n",
      "[nltk_data]   Package wordnet is already up-to-date!\n",
      "[nltk_data] Downloading package averaged_perceptron_tagger to\n",
      "[nltk_data]     /Users/jitender.singh/nltk_data...\n",
      "[nltk_data]   Package averaged_perceptron_tagger is already up-to-\n",
      "[nltk_data]       date!\n"
     ]
    },
    {
     "data": {
      "text/plain": [
       "True"
      ]
     },
     "execution_count": 8,
     "metadata": {},
     "output_type": "execute_result"
    }
   ],
   "source": [
    "nltk.download('brown')\n",
    "nltk.download('punkt')\n",
    "nltk.download('wordnet')\n",
    "nltk.download('averaged_perceptron_tagger')\n",
    "\n",
    "\n"
   ]
  },
  {
   "cell_type": "code",
   "execution_count": 14,
   "id": "51830629",
   "metadata": {},
   "outputs": [
    {
     "name": "stderr",
     "output_type": "stream",
     "text": [
      "[nltk_data] Downloading package wordnet to\n",
      "[nltk_data]     /Users/jitender.singh/nltk_data...\n",
      "[nltk_data]   Package wordnet is already up-to-date!\n",
      "[nltk_data] Downloading package brown to\n",
      "[nltk_data]     /Users/jitender.singh/nltk_data...\n",
      "[nltk_data]   Package brown is already up-to-date!\n",
      "[nltk_data] Downloading package averaged_perceptron_tagger to\n",
      "[nltk_data]     /Users/jitender.singh/nltk_data...\n",
      "[nltk_data]   Package averaged_perceptron_tagger is already up-to-\n",
      "[nltk_data]       date!\n"
     ]
    }
   ],
   "source": [
    "import nltk\n",
    "from nltk.tokenize import RegexpTokenizer\n",
    "from collections import defaultdict\n",
    "from nltk.stem import WordNetLemmatizer\n",
    "from nltk.corpus import brown\n",
    "\n",
    "\n",
    "\"\"\"\n",
    "Program to find count of all words in a corpus and\n",
    "print words having a minimum threshold of occurance\n",
    "\"\"\"\n",
    "\n",
    "\n",
    "class BrownCorpus:\n",
    "\n",
    "    def __init__(self):\n",
    "        self.word_counts = defaultdict(lambda: 0)     # to hold word counts\n",
    "        self.word_tagset = defaultdict(set)           # holds distinct tags for a word\n",
    "        self.tag_counts = defaultdict(lambda: 0)      # to hold word counts\n",
    "        self.prevtag_counts = defaultdict(lambda: 0)  # holds counts for tags appearing before a noun tag.\n",
    "\n",
    "        self.word_tokenizer = RegexpTokenizer(r'\\w+')\n",
    "\n",
    "    def read_corpus(self):\n",
    "        # consider the previous sentence ended with '.'\n",
    "        # presence of '.' tag can be used to mark words/tags that appear at the beginning of a sentence.\n",
    "        prev_tag = '.'\n",
    "\n",
    "        for tagged_word in brown.tagged_words():\n",
    "            # treat all-upper words (US, WHO..) differently as they should be considered proper noun, except..\n",
    "            # the single letter ones ('A' = 'a', 'I' = 'i')\n",
    "            word = tagged_word[0] if tagged_word[0].isupper() and len(tagged_word[0]) > 1 else tagged_word[0].lower()\n",
    "\n",
    "            # CLAWS tag corpus may have combination tags, separated by '-'\n",
    "            tags = str.split(tagged_word[1], '-')\n",
    "\n",
    "            # add tags\n",
    "            self.word_tagset[word].update(tags)\n",
    "\n",
    "            # set word count\n",
    "            self.word_counts[word] += 1\n",
    "\n",
    "            # set tag count\n",
    "            for tag in tags:\n",
    "                self.tag_counts[tag] += 1\n",
    "\n",
    "            # find previous word of a noun.\n",
    "            for tag in tags:\n",
    "                if self.is_noun(tag):\n",
    "                    self.prevtag_counts[prev_tag] += 1\n",
    "                prev_tag = tag\n",
    "\n",
    "    def is_noun(self, tag):     # noqa\n",
    "        # if a tag starts with letter 'N', it's a noun, except NIL and NC,\n",
    "        # see: CLAWS1 tags as used by brown corpus: http://ucrel.lancs.ac.uk/claws1tags.html\n",
    "        if tag.upper().startswith('N') and tag not in ['NIL', 'NC']:\n",
    "            return True\n",
    "        return False\n",
    "\n",
    "    def get_p_s_count_diff(self):\n",
    "        plural_singular_diff = dict()\n",
    "        wnl = WordNetLemmatizer()\n",
    "\n",
    "        # for all words and their counts...\n",
    "        for word, count in self.word_counts.items():\n",
    "\n",
    "            # if the word looks like a plural form and has a noun tag...\n",
    "            if word.endswith('s') and any(self.is_noun(tag) for tag in self.word_tagset[word]):\n",
    "                # get its singular form and count of singular form\n",
    "                singular_form = wnl.lemmatize(word, pos='n')    # wordnet lemmatizer takes small 'n' for noun pos tag.\n",
    "\n",
    "                # take only the simple plurals, also ensure we have their singular form in the wordlist.\n",
    "                if '{}s'.format(singular_form) == word and self.word_counts.get(singular_form):\n",
    "                    count_diff = self.word_counts[word] - self.word_counts[singular_form]\n",
    "\n",
    "                    # only pick the words where plural_form is more frequent than singular_form\n",
    "                    if count_diff > 0:\n",
    "                        plural_singular_diff[word] = {\n",
    "                            'singular_form': singular_form,\n",
    "                            'count_plural': self.word_counts[word],\n",
    "                            'count_singular': self.word_counts[singular_form],\n",
    "                            'count_diff': count_diff,\n",
    "                        }\n",
    "        return sorted(plural_singular_diff.items(), key=lambda x: x[1]['count_diff'], reverse=True)\n",
    "\n",
    "    def get_words_with_most_tags(self):\n",
    "        \"\"\"\n",
    "        Returns words having the highest tag counts.\n",
    "        \"\"\"\n",
    "        return sorted(self.word_tagset.items(), key=lambda x: len(x[1]), reverse=True)\n",
    "\n",
    "    def get_tags_by_count(self):\n",
    "        \"\"\"\n",
    "        Returns list of tag with count, most frequently occuring tag first.\n",
    "        \"\"\"\n",
    "        return sorted(self.tag_counts.items(), key=lambda x: x[1], reverse=True)\n",
    "\n",
    "    def get_prevtag_counts(self):\n",
    "        \"\"\"\n",
    "        Return tags with highest counts that are followed by a noun.\n",
    "        \"\"\"\n",
    "        return sorted(self.prevtag_counts.items(), key=lambda x: x[1], reverse=True)\n",
    "\n",
    "\n",
    "nltk.download('wordnet')\n",
    "nltk.download('brown')\n",
    "nltk.download('averaged_perceptron_tagger')\n",
    "\n",
    "bc = BrownCorpus()\n",
    "bc.read_corpus()\n",
    "\n"
   ]
  },
  {
   "cell_type": "code",
   "execution_count": 19,
   "id": "d3ee451f",
   "metadata": {},
   "outputs": [
    {
     "data": {
      "text/plain": [
       "[('years',\n",
       "  {'singular_form': 'year',\n",
       "   'count_plural': 950,\n",
       "   'count_singular': 658,\n",
       "   'count_diff': 292}),\n",
       " ('eyes',\n",
       "  {'singular_form': 'eye',\n",
       "   'count_plural': 401,\n",
       "   'count_singular': 122,\n",
       "   'count_diff': 279}),\n",
       " ('members',\n",
       "  {'singular_form': 'member',\n",
       "   'count_plural': 325,\n",
       "   'count_singular': 137,\n",
       "   'count_diff': 188}),\n",
       " ('minutes',\n",
       "  {'singular_form': 'minute',\n",
       "   'count_plural': 196,\n",
       "   'count_singular': 55,\n",
       "   'count_diff': 141}),\n",
       " ('miles',\n",
       "  {'singular_form': 'mile',\n",
       "   'count_plural': 173,\n",
       "   'count_singular': 48,\n",
       "   'count_diff': 125}),\n",
       " ('means',\n",
       "  {'singular_form': 'mean',\n",
       "   'count_plural': 310,\n",
       "   'count_singular': 199,\n",
       "   'count_diff': 111}),\n",
       " ('corps',\n",
       "  {'singular_form': 'corp',\n",
       "   'count_plural': 110,\n",
       "   'count_singular': 1,\n",
       "   'count_diff': 109}),\n",
       " ('sales',\n",
       "  {'singular_form': 'sale',\n",
       "   'count_plural': 133,\n",
       "   'count_singular': 44,\n",
       "   'count_diff': 89}),\n",
       " ('conditions',\n",
       "  {'singular_form': 'condition',\n",
       "   'count_plural': 180,\n",
       "   'count_singular': 91,\n",
       "   'count_diff': 89}),\n",
       " ('terms',\n",
       "  {'singular_form': 'term',\n",
       "   'count_plural': 163,\n",
       "   'count_singular': 79,\n",
       "   'count_diff': 84}),\n",
       " ('pass',\n",
       "  {'singular_form': 'pas',\n",
       "   'count_plural': 89,\n",
       "   'count_singular': 6,\n",
       "   'count_diff': 83}),\n",
       " ('students',\n",
       "  {'singular_form': 'student',\n",
       "   'count_plural': 213,\n",
       "   'count_singular': 131,\n",
       "   'count_diff': 82}),\n",
       " ('parents',\n",
       "  {'singular_form': 'parent',\n",
       "   'count_plural': 91,\n",
       "   'count_singular': 15,\n",
       "   'count_diff': 76}),\n",
       " ('circumstances',\n",
       "  {'singular_form': 'circumstance',\n",
       "   'count_plural': 84,\n",
       "   'count_singular': 15,\n",
       "   'count_diff': 69}),\n",
       " ('resources',\n",
       "  {'singular_form': 'resource',\n",
       "   'count_plural': 72,\n",
       "   'count_singular': 9,\n",
       "   'count_diff': 63}),\n",
       " ('months',\n",
       "  {'singular_form': 'month',\n",
       "   'count_plural': 189,\n",
       "   'count_singular': 130,\n",
       "   'count_diff': 59}),\n",
       " ('institutions',\n",
       "  {'singular_form': 'institution',\n",
       "   'count_plural': 98,\n",
       "   'count_singular': 41,\n",
       "   'count_diff': 57}),\n",
       " ('citizens',\n",
       "  {'singular_form': 'citizen',\n",
       "   'count_plural': 86,\n",
       "   'count_singular': 30,\n",
       "   'count_diff': 56}),\n",
       " ('workers',\n",
       "  {'singular_form': 'worker',\n",
       "   'count_plural': 86,\n",
       "   'count_singular': 30,\n",
       "   'count_diff': 56}),\n",
       " ('requirements',\n",
       "  {'singular_form': 'requirement',\n",
       "   'count_plural': 83,\n",
       "   'count_singular': 27,\n",
       "   'count_diff': 56})]"
      ]
     },
     "execution_count": 19,
     "metadata": {},
     "output_type": "execute_result"
    }
   ],
   "source": [
    "# Q1.a\n",
    "# get the plural/singular counts / diff, sorted by 'count_diff', show first 20 items.\n",
    "bc.get_p_s_count_diff()[:20]\n"
   ]
  },
  {
   "cell_type": "code",
   "execution_count": 20,
   "id": "038c8aa9",
   "metadata": {},
   "outputs": [
    {
     "data": {
      "text/plain": [
       "[('that', {'CS', 'DT', 'HL', 'NC', 'NIL', 'QL', 'TL', 'WPO', 'WPS'}),\n",
       " ('a', {'AT', 'FW', 'HL', 'IN', 'NC', 'NIL', 'NN', 'NP', 'TL'}),\n",
       " ('down', {'HL', 'IN', 'JJ', 'NN', 'NP', 'RB', 'RP', 'TL', 'VB'}),\n",
       " ('in', {'FW', 'HL', 'IN', 'NC', 'NIL', 'NN', 'RP', 'TL'}),\n",
       " ('to', {'HL', 'IN', 'NC', 'NIL', 'NPS', 'QL', 'TL', 'TO'}),\n",
       " ('well', {'HL', 'JJ', 'NN', 'QL', 'RB', 'TL', 'UH', 'VB'}),\n",
       " (':', {',', '.', ':', 'HL', 'IN', 'NIL', 'NP', 'TL'}),\n",
       " ('more', {'AP', 'HL', 'NC', 'NIL', 'NP', 'QL', 'RBR', 'TL'}),\n",
       " ('beat', {'HL', 'JJ', 'NN', 'NNS', 'TL', 'VB', 'VBD', 'VBN'}),\n",
       " ('place', {'FW', 'HL', 'NC', 'NN', 'NP', 'TL', 'VB'}),\n",
       " ('for', {'CS', 'HL', 'IN', 'NC', 'NN', 'RB', 'TL'}),\n",
       " ('best', {'HL', 'JJT', 'NP', 'QL', 'RBT', 'TL', 'VB'}),\n",
       " ('as', {'CS', 'HL', 'IN', 'NIL', 'QL', 'RB', 'TL'}),\n",
       " ('home', {'HL', 'NC', 'NN', 'NP', 'NR', 'TL', 'VB'}),\n",
       " ('present', {'AP', 'HL', 'JJ', 'NN', 'RB', 'TL', 'VB'}),\n",
       " ('out', {'HL', 'IN', 'NC', 'PP$', 'RB', 'RP', 'TL'}),\n",
       " ('near', {'HL', 'IN', 'JJ', 'QL', 'RB', 'TL', 'VB'}),\n",
       " ('then', {'CS', 'HL', 'JJ', 'NC', 'NIL', 'RB', 'RN'}),\n",
       " ('can', {'HL', 'MD', 'NC', 'NIL', 'NN', 'TL', 'VB'}),\n",
       " ('long', {'HL', 'JJ', 'NP', 'QL', 'RB', 'TL', 'VB'})]"
      ]
     },
     "execution_count": 20,
     "metadata": {},
     "output_type": "execute_result"
    }
   ],
   "source": [
    "# Q1. b\n",
    "# get the words having most tags, sorted by the respective tag count, show first 20 items.\n",
    "bc.get_words_with_most_tags()[:20]\n"
   ]
  },
  {
   "cell_type": "code",
   "execution_count": 21,
   "id": "71fdcec2",
   "metadata": {},
   "outputs": [
    {
     "name": "stdout",
     "output_type": "stream",
     "text": [
      "---\n",
      "\n",
      "\n"
     ]
    },
    {
     "data": {
      "text/plain": [
       "[('NN', 168028),\n",
       " ('IN', 122713),\n",
       " ('AT', 99146),\n",
       " ('JJ', 68728),\n",
       " ('.', 61254),\n",
       " (',', 58336),\n",
       " ('NNS', 58109),\n",
       " ('NP', 39045),\n",
       " ('CC', 38192),\n",
       " ('RB', 36614),\n",
       " ('VB', 33985),\n",
       " ('TL', 30169),\n",
       " ('VBN', 29944),\n",
       " ('VBD', 26195),\n",
       " ('CS', 22178),\n",
       " ('PPS', 18288),\n",
       " ('VBG', 18196),\n",
       " ('PP$', 16936),\n",
       " ('TO', 14996),\n",
       " ('CD', 14883)]"
      ]
     },
     "execution_count": 21,
     "metadata": {},
     "output_type": "execute_result"
    }
   ],
   "source": [
    "print(\"---\\n\\n\")\n",
    "\n",
    "# Q1. c\n",
    "# get tags along with their count, sorted in decreasing order of count, show first 20 items.\n",
    "bc.get_tags_by_count()[:20]\n"
   ]
  },
  {
   "cell_type": "code",
   "execution_count": 22,
   "id": "b74a936f",
   "metadata": {},
   "outputs": [
    {
     "data": {
      "text/plain": [
       "[('AT', 63830),\n",
       " ('JJ', 41836),\n",
       " ('IN', 32460),\n",
       " ('NN', 18658),\n",
       " ('TL', 14033),\n",
       " ('PP$', 12417),\n",
       " ('NP', 10294),\n",
       " ('CC', 8847),\n",
       " (',', 7977),\n",
       " ('.', 7313),\n",
       " ('CD', 5473),\n",
       " ('AP', 5280),\n",
       " ('VBG', 4700),\n",
       " ('DT', 4628),\n",
       " ('VBN', 4045),\n",
       " ('CS', 3100),\n",
       " ('VB', 3086),\n",
       " ('HL', 2295),\n",
       " ('VBD', 1839),\n",
       " ('``', 1814)]"
      ]
     },
     "execution_count": 22,
     "metadata": {},
     "output_type": "execute_result"
    }
   ],
   "source": [
    "# Q1. d\n",
    "# get list of most frequent tags that are followed by a noun, show first 20 items.\n",
    "bc.get_prevtag_counts()[:20]\n"
   ]
  },
  {
   "cell_type": "code",
   "execution_count": null,
   "id": "6a4d92b6",
   "metadata": {},
   "outputs": [],
   "source": []
  }
 ],
 "metadata": {
  "kernelspec": {
   "display_name": "Python 3 (ipykernel)",
   "language": "python",
   "name": "python3"
  },
  "language_info": {
   "codemirror_mode": {
    "name": "ipython",
    "version": 3
   },
   "file_extension": ".py",
   "mimetype": "text/x-python",
   "name": "python",
   "nbconvert_exporter": "python",
   "pygments_lexer": "ipython3",
   "version": "3.9.2"
  }
 },
 "nbformat": 4,
 "nbformat_minor": 5
}
