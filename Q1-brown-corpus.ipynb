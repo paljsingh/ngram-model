{
 "cells": [
  {
   "cell_type": "code",
   "execution_count": 1,
   "id": "8b2907fc",
   "metadata": {},
   "outputs": [],
   "source": [
    "import nltk\n",
    "from nltk.tokenize import RegexpTokenizer\n",
    "from collections import defaultdict\n",
    "from nltk.stem import WordNetLemmatizer\n",
    "from nltk import pos_tag\n"
   ]
  },
  {
   "cell_type": "code",
   "execution_count": 2,
   "id": "262cd93b",
   "metadata": {},
   "outputs": [
    {
     "name": "stderr",
     "output_type": "stream",
     "text": [
      "[nltk_data] Error loading brown: [Errno 54] Connection reset by peer\n",
      "[nltk_data] Error loading punkt: [Errno 54] Connection reset by peer\n",
      "[nltk_data] Error loading wordnet: [Errno 54] Connection reset by peer\n",
      "[nltk_data] Downloading package averaged_perceptron_tagger to\n",
      "[nltk_data]     /Users/jitender.singh/nltk_data...\n",
      "[nltk_data]   Package averaged_perceptron_tagger is already up-to-\n",
      "[nltk_data]       date!\n"
     ]
    },
    {
     "data": {
      "text/plain": [
       "True"
      ]
     },
     "execution_count": 2,
     "metadata": {},
     "output_type": "execute_result"
    }
   ],
   "source": [
    "nltk.download('brown')\n",
    "nltk.download('punkt')\n",
    "nltk.download('wordnet')\n",
    "nltk.download('averaged_perceptron_tagger')\n",
    "\n",
    "\n"
   ]
  },
  {
   "cell_type": "code",
   "execution_count": 3,
   "id": "73e67cbb",
   "metadata": {},
   "outputs": [],
   "source": [
    "import nltk\n",
    "from nltk.tokenize import RegexpTokenizer\n",
    "from collections import defaultdict\n",
    "from nltk.stem import WordNetLemmatizer\n",
    "from nltk.corpus import brown\n",
    "\n",
    "\n",
    "\"\"\"\n",
    "Program to find count of all words in a corpus and\n",
    "print words having a minimum threshold of occurance\n",
    "\"\"\"\n",
    "\n",
    "\n",
    "class BrownCorpus:\n",
    "\n",
    "    def __init__(self):\n",
    "        self.word_counts = defaultdict(lambda: 0)     # to hold word counts\n",
    "        self.word_tagset = defaultdict(set)           # holds distinct tags for a word\n",
    "        self.tag_counts = defaultdict(lambda: 0)      # to hold word counts\n",
    "        self.prevtag_counts = defaultdict(lambda: 0)  # holds counts for tags appearing before a noun tag.\n",
    "\n",
    "        self.word_tokenizer = RegexpTokenizer(r'\\w+')\n",
    "\n",
    "    def read_corpus(self, include_combination_tags=True):\n",
    "        # consider the previous sentence ended with '.'\n",
    "        # presence of '.' tag can be used to mark words/tags that appear at the beginning of a sentence.\n",
    "        prev_tag = '.'\n",
    "\n",
    "        for tagged_word in brown.tagged_words():\n",
    "            # treat all-upper words (US, WHO..) differently as they should be considered proper noun, except..\n",
    "            # the single letter ones ('A' = 'a', 'I' = 'i')\n",
    "            word = tagged_word[0] if tagged_word[0].isupper() and len(tagged_word[0]) > 1 else tagged_word[0].lower()\n",
    "\n",
    "            # CLAWS tag corpus may have combination tags, separated by '-'\n",
    "            if include_combination_tags:\n",
    "                tags = str.split(tagged_word[1], '-')\n",
    "            else:\n",
    "                # use the first tag only.\n",
    "                tags = [str.split(tagged_word[1], '-')[0]]\n",
    "            # add tags\n",
    "            self.word_tagset[word].update(tags)\n",
    "\n",
    "            # set word count\n",
    "            self.word_counts[word] += 1\n",
    "\n",
    "            # set tag count\n",
    "            for tag in tags:\n",
    "                self.tag_counts[tag] += 1\n",
    "\n",
    "            # find previous word's tag(s), if current word is a noun, and increase their counts\n",
    "            if any(self.is_noun(tag) for tag in tags):\n",
    "                for prev_tag in prev_tags:\n",
    "                    self.prevtag_counts[prev_tag] += 1\n",
    "            # reset prev tags to current word's tag(s)\n",
    "            prev_tags = tags\n",
    "\n",
    "            \n",
    "    def is_noun(self, tag):     # noqa\n",
    "        # if a tag starts with letter 'N', it's a noun, except NIL and NC,\n",
    "        # see: CLAWS1 tags as used by brown corpus: http://ucrel.lancs.ac.uk/claws1tags.html\n",
    "        if tag.upper().startswith('N') and tag not in ['NIL', 'NC']:\n",
    "            return True\n",
    "        return False\n",
    "\n",
    "    def get_p_s_count_diff(self):\n",
    "        plural_singular_diff = dict()\n",
    "        wnl = WordNetLemmatizer()\n",
    "\n",
    "        # for all words and their counts...\n",
    "        for word, count in self.word_counts.items():\n",
    "\n",
    "            # if the word looks like a plural form and has a noun tag...\n",
    "            if word.endswith('s') and not word.endswith('ss') and \\\n",
    "                    any(self.is_noun(tag) for tag in self.word_tagset[word]):\n",
    "                # get its singular form and count of singular form\n",
    "                singular_form = wnl.lemmatize(word, pos='n')    # wordnet lemmatizer takes small 'n' for noun pos tag.\n",
    "\n",
    "                # take only the simple plurals, also ensure we have their singular form in the wordlist.\n",
    "                if '{}s'.format(singular_form) == word and self.word_counts.get(singular_form):\n",
    "                    count_diff = self.word_counts[word] - self.word_counts[singular_form]\n",
    "\n",
    "                    # only pick the words where plural_form is more frequent than singular_form\n",
    "                    if count_diff > 0:\n",
    "                        plural_singular_diff[word] = {\n",
    "                            'singular_form': singular_form,\n",
    "                            'count_plural': self.word_counts[word],\n",
    "                            'count_singular': self.word_counts[singular_form],\n",
    "                            'count_diff': count_diff,\n",
    "                        }\n",
    "        return sorted(plural_singular_diff.items(), key=lambda x: x[1]['count_diff'], reverse=True)\n",
    "\n",
    "    def get_words_with_most_tags(self):\n",
    "        \"\"\"\n",
    "        Returns words having the highest tag counts.\n",
    "        \"\"\"\n",
    "        return sorted(self.word_tagset.items(), key=lambda x: len(x[1]), reverse=True)\n",
    "\n",
    "    def get_tags_by_count(self):\n",
    "        \"\"\"\n",
    "        Returns list of tag with count, most frequently occuring tag first.\n",
    "        \"\"\"\n",
    "        return sorted(self.tag_counts.items(), key=lambda x: x[1], reverse=True)\n",
    "\n",
    "    def get_prevtag_counts(self):\n",
    "        \"\"\"\n",
    "        Return tags with highest counts that are followed by a noun.\n",
    "        \"\"\"\n",
    "        return sorted(self.prevtag_counts.items(), key=lambda x: x[1], reverse=True)\n",
    "\n",
    "\n",
    "bc = BrownCorpus()\n",
    "bc.read_corpus()\n",
    "\n"
   ]
  },
  {
   "cell_type": "code",
   "execution_count": 4,
   "id": "bef07755",
   "metadata": {},
   "outputs": [
    {
     "data": {
      "text/plain": [
       "[('years',\n",
       "  {'singular_form': 'year',\n",
       "   'count_plural': 950,\n",
       "   'count_singular': 658,\n",
       "   'count_diff': 292}),\n",
       " ('eyes',\n",
       "  {'singular_form': 'eye',\n",
       "   'count_plural': 401,\n",
       "   'count_singular': 122,\n",
       "   'count_diff': 279}),\n",
       " ('members',\n",
       "  {'singular_form': 'member',\n",
       "   'count_plural': 325,\n",
       "   'count_singular': 137,\n",
       "   'count_diff': 188}),\n",
       " ('minutes',\n",
       "  {'singular_form': 'minute',\n",
       "   'count_plural': 196,\n",
       "   'count_singular': 55,\n",
       "   'count_diff': 141}),\n",
       " ('miles',\n",
       "  {'singular_form': 'mile',\n",
       "   'count_plural': 173,\n",
       "   'count_singular': 48,\n",
       "   'count_diff': 125}),\n",
       " ('means',\n",
       "  {'singular_form': 'mean',\n",
       "   'count_plural': 310,\n",
       "   'count_singular': 199,\n",
       "   'count_diff': 111}),\n",
       " ('corps',\n",
       "  {'singular_form': 'corp',\n",
       "   'count_plural': 110,\n",
       "   'count_singular': 1,\n",
       "   'count_diff': 109}),\n",
       " ('sales',\n",
       "  {'singular_form': 'sale',\n",
       "   'count_plural': 133,\n",
       "   'count_singular': 44,\n",
       "   'count_diff': 89}),\n",
       " ('conditions',\n",
       "  {'singular_form': 'condition',\n",
       "   'count_plural': 180,\n",
       "   'count_singular': 91,\n",
       "   'count_diff': 89}),\n",
       " ('terms',\n",
       "  {'singular_form': 'term',\n",
       "   'count_plural': 163,\n",
       "   'count_singular': 79,\n",
       "   'count_diff': 84}),\n",
       " ('students',\n",
       "  {'singular_form': 'student',\n",
       "   'count_plural': 213,\n",
       "   'count_singular': 131,\n",
       "   'count_diff': 82}),\n",
       " ('parents',\n",
       "  {'singular_form': 'parent',\n",
       "   'count_plural': 91,\n",
       "   'count_singular': 15,\n",
       "   'count_diff': 76}),\n",
       " ('circumstances',\n",
       "  {'singular_form': 'circumstance',\n",
       "   'count_plural': 84,\n",
       "   'count_singular': 15,\n",
       "   'count_diff': 69}),\n",
       " ('resources',\n",
       "  {'singular_form': 'resource',\n",
       "   'count_plural': 72,\n",
       "   'count_singular': 9,\n",
       "   'count_diff': 63}),\n",
       " ('months',\n",
       "  {'singular_form': 'month',\n",
       "   'count_plural': 189,\n",
       "   'count_singular': 130,\n",
       "   'count_diff': 59}),\n",
       " ('institutions',\n",
       "  {'singular_form': 'institution',\n",
       "   'count_plural': 98,\n",
       "   'count_singular': 41,\n",
       "   'count_diff': 57}),\n",
       " ('citizens',\n",
       "  {'singular_form': 'citizen',\n",
       "   'count_plural': 86,\n",
       "   'count_singular': 30,\n",
       "   'count_diff': 56}),\n",
       " ('workers',\n",
       "  {'singular_form': 'worker',\n",
       "   'count_plural': 86,\n",
       "   'count_singular': 30,\n",
       "   'count_diff': 56}),\n",
       " ('requirements',\n",
       "  {'singular_form': 'requirement',\n",
       "   'count_plural': 83,\n",
       "   'count_singular': 27,\n",
       "   'count_diff': 56}),\n",
       " ('elements',\n",
       "  {'singular_form': 'element',\n",
       "   'count_plural': 107,\n",
       "   'count_singular': 52,\n",
       "   'count_diff': 55})]"
      ]
     },
     "execution_count": 4,
     "metadata": {},
     "output_type": "execute_result"
    }
   ],
   "source": [
    "# Q1.a\n",
    "# Words that are simple plurals and occur more frequenty than their singular form\n",
    "bc.get_p_s_count_diff()[:20]\n"
   ]
  },
  {
   "cell_type": "markdown",
   "id": "98b8961f",
   "metadata": {},
   "source": [
    "***Analysis***\n",
    "\n",
    "The list shows the plural form of words which are used far more frequently than their singular form,\n",
    "example: years, eyes, members, means etc.\n",
    "\n"
   ]
  },
  {
   "cell_type": "code",
   "execution_count": 5,
   "id": "912525fd",
   "metadata": {},
   "outputs": [
    {
     "data": {
      "text/plain": [
       "[('that', {'CS', 'DT', 'HL', 'NC', 'NIL', 'QL', 'TL', 'WPO', 'WPS'}),\n",
       " ('a', {'AT', 'FW', 'HL', 'IN', 'NC', 'NIL', 'NN', 'NP', 'TL'}),\n",
       " ('down', {'HL', 'IN', 'JJ', 'NN', 'NP', 'RB', 'RP', 'TL', 'VB'}),\n",
       " ('in', {'FW', 'HL', 'IN', 'NC', 'NIL', 'NN', 'RP', 'TL'}),\n",
       " ('to', {'HL', 'IN', 'NC', 'NIL', 'NPS', 'QL', 'TL', 'TO'}),\n",
       " ('well', {'HL', 'JJ', 'NN', 'QL', 'RB', 'TL', 'UH', 'VB'}),\n",
       " (':', {',', '.', ':', 'HL', 'IN', 'NIL', 'NP', 'TL'}),\n",
       " ('more', {'AP', 'HL', 'NC', 'NIL', 'NP', 'QL', 'RBR', 'TL'}),\n",
       " ('beat', {'HL', 'JJ', 'NN', 'NNS', 'TL', 'VB', 'VBD', 'VBN'}),\n",
       " ('place', {'FW', 'HL', 'NC', 'NN', 'NP', 'TL', 'VB'}),\n",
       " ('for', {'CS', 'HL', 'IN', 'NC', 'NN', 'RB', 'TL'}),\n",
       " ('best', {'HL', 'JJT', 'NP', 'QL', 'RBT', 'TL', 'VB'}),\n",
       " ('as', {'CS', 'HL', 'IN', 'NIL', 'QL', 'RB', 'TL'}),\n",
       " ('home', {'HL', 'NC', 'NN', 'NP', 'NR', 'TL', 'VB'}),\n",
       " ('present', {'AP', 'HL', 'JJ', 'NN', 'RB', 'TL', 'VB'}),\n",
       " ('out', {'HL', 'IN', 'NC', 'PP$', 'RB', 'RP', 'TL'}),\n",
       " ('near', {'HL', 'IN', 'JJ', 'QL', 'RB', 'TL', 'VB'}),\n",
       " ('then', {'CS', 'HL', 'JJ', 'NC', 'NIL', 'RB', 'RN'}),\n",
       " ('can', {'HL', 'MD', 'NC', 'NIL', 'NN', 'TL', 'VB'}),\n",
       " ('long', {'HL', 'JJ', 'NP', 'QL', 'RB', 'TL', 'VB'})]"
      ]
     },
     "execution_count": 5,
     "metadata": {},
     "output_type": "execute_result"
    }
   ],
   "source": [
    "# Q1. b\n",
    "# Words having the most tags.\n",
    "bc.get_words_with_most_tags()[:20]\n"
   ]
  },
  {
   "cell_type": "markdown",
   "id": "d73c280e",
   "metadata": {},
   "source": [
    "\n",
    "***Analysis***\n",
    "\n",
    "Words like 'that', 'a', 'down' show up with the highest number of tags, followed by 'in', 'to', 'well'.\n",
    "Though many of the assigned tags in the brown corpus are medium to high granularity tags,\n",
    "usually not found in many other tagsets.\n",
    "ex. TL (word in title), NC (cited text) or HL (word in healines) are some of the combination tags,\n",
    "often seen as NN-TL, NN-NC etc. (see: https://link.springer.com/content/pdf/bbm%3A978-94-015-9273-4%2F1.pdf )\n",
    "\n",
    "The below section, excludes the combination tags to get the words with most count of tags."
   ]
  },
  {
   "cell_type": "code",
   "execution_count": 6,
   "id": "7484b9d9",
   "metadata": {},
   "outputs": [
    {
     "data": {
      "text/plain": [
       "[('down', {'IN', 'JJ', 'NN', 'NP', 'RB', 'RP', 'VB'}),\n",
       " ('still', {'JJ', 'NN', 'NP', 'QL', 'QLP', 'RB', 'VB'}),\n",
       " ('that', {'CS', 'DT', 'NIL', 'QL', 'WPO', 'WPS'}),\n",
       " ('well', {'JJ', 'NN', 'QL', 'RB', 'UH', 'VB'}),\n",
       " (':', {',', '.', ':', 'IN', 'NIL', 'NP'}),\n",
       " ('beat', {'JJ', 'NN', 'NNS', 'VB', 'VBD', 'VBN'}),\n",
       " ('in', {'FW', 'IN', 'NIL', 'NN', 'RP'}),\n",
       " ('to', {'IN', 'NIL', 'NPS', 'QL', 'TO'}),\n",
       " ('a', {'AT', 'FW', 'NIL', 'NN', 'NP'}),\n",
       " ('best', {'JJT', 'NP', 'QL', 'RBT', 'VB'}),\n",
       " ('as', {'CS', 'IN', 'NIL', 'QL', 'RB'}),\n",
       " ('fit', {'JJ', 'NN', 'VB', 'VBD', 'VBN'}),\n",
       " ('more', {'AP', 'NIL', 'NP', 'QL', 'RBR'}),\n",
       " ('present', {'AP', 'JJ', 'NN', 'RB', 'VB'}),\n",
       " ('near', {'IN', 'JJ', 'QL', 'RB', 'VB'}),\n",
       " ('then', {'CS', 'JJ', 'NIL', 'RB', 'RN'}),\n",
       " ('past', {'AP', 'IN', 'JJ', 'NN', 'RB'}),\n",
       " ('long', {'JJ', 'NP', 'QL', 'RB', 'VB'}),\n",
       " ('post', {'FW', 'IN', 'NN', 'NP', 'VB'}),\n",
       " ('left', {'JJ', 'NN', 'NR', 'VBD', 'VBN'})]"
      ]
     },
     "execution_count": 6,
     "metadata": {},
     "output_type": "execute_result"
    }
   ],
   "source": [
    "# Q1. b\n",
    "# Words having the most tags (with combination tgs excluded)\n",
    "bc_2 = BrownCorpus()\n",
    "bc_2.read_corpus(include_combination_tags=False)\n",
    "bc_2.get_words_with_most_tags()[:20]\n"
   ]
  },
  {
   "cell_type": "markdown",
   "id": "db7e8c85",
   "metadata": {},
   "source": [
    "Excluding the combination tags, we find words like 'down', 'still', 'that', 'well', 'beat' and punctuation ':' \n",
    "having the most tags assigned to them.\n",
    "As can be seen, most of these words belong to adjective/preposition/adverbs/qualifiers categories, primarily used to join different sentences, parts of sentences."
   ]
  },
  {
   "cell_type": "code",
   "execution_count": 7,
   "id": "3da56703",
   "metadata": {},
   "outputs": [
    {
     "data": {
      "text/plain": [
       "[('NN', 168028),\n",
       " ('IN', 122713),\n",
       " ('AT', 99146),\n",
       " ('JJ', 68728),\n",
       " ('.', 61254),\n",
       " (',', 58336),\n",
       " ('NNS', 58109),\n",
       " ('NP', 39045),\n",
       " ('CC', 38192),\n",
       " ('RB', 36614),\n",
       " ('VB', 33985),\n",
       " ('TL', 30169),\n",
       " ('VBN', 29944),\n",
       " ('VBD', 26195),\n",
       " ('CS', 22178),\n",
       " ('PPS', 18288),\n",
       " ('VBG', 18196),\n",
       " ('PP$', 16936),\n",
       " ('TO', 14996),\n",
       " ('CD', 14883)]"
      ]
     },
     "execution_count": 7,
     "metadata": {},
     "output_type": "execute_result"
    }
   ],
   "source": [
    "\n",
    "# Q1. c\n",
    "# Most frequent tags.\n",
    "bc.get_tags_by_count()[:20]\n"
   ]
  },
  {
   "cell_type": "markdown",
   "id": "5c6e5e04",
   "metadata": {},
   "source": [
    "***Analysis***\n",
    "\n",
    "Nouns are the most common tags assigned, followed by prepositions, articles and adjectives and sentence end/pause markers.\n"
   ]
  },
  {
   "cell_type": "code",
   "execution_count": 8,
   "id": "60063ab0",
   "metadata": {},
   "outputs": [
    {
     "data": {
      "text/plain": [
       "[('AT', 64819),\n",
       " ('JJ', 45922),\n",
       " ('IN', 33846),\n",
       " ('NN', 23626),\n",
       " ('TL', 14234),\n",
       " ('NP', 12589),\n",
       " ('PP$', 12480),\n",
       " ('CC', 9209),\n",
       " (',', 8125),\n",
       " ('.', 7447),\n",
       " ('CD', 5672),\n",
       " ('AP', 5326),\n",
       " ('VBG', 4881),\n",
       " ('DT', 4643),\n",
       " ('VBN', 4643),\n",
       " ('VB', 3157),\n",
       " ('CS', 3109),\n",
       " ('HL', 2295),\n",
       " ('NP$', 1849),\n",
       " ('``', 1847)]"
      ]
     },
     "execution_count": 8,
     "metadata": {},
     "output_type": "execute_result"
    }
   ],
   "source": [
    "# Q1. d\n",
    "# tags that fequently appear before a noun word.\n",
    "bc.get_prevtag_counts()[:20]\n"
   ]
  },
  {
   "cell_type": "markdown",
   "id": "1f8e921e",
   "metadata": {},
   "source": [
    "***Analysis***\n",
    "\n",
    "Article tags appear most frequently before a noun word. The other frequent tags are adjectives and prepositions that appear before a noun word."
   ]
  },
  {
   "cell_type": "code",
   "execution_count": null,
   "id": "7a0dd67c",
   "metadata": {},
   "outputs": [],
   "source": []
  },
  {
   "cell_type": "code",
   "execution_count": null,
   "id": "4e75bc73",
   "metadata": {},
   "outputs": [],
   "source": []
  }
 ],
 "metadata": {
  "kernelspec": {
   "display_name": "Python 3 (ipykernel)",
   "language": "python",
   "name": "python3"
  },
  "language_info": {
   "codemirror_mode": {
    "name": "ipython",
    "version": 3
   },
   "file_extension": ".py",
   "mimetype": "text/x-python",
   "name": "python",
   "nbconvert_exporter": "python",
   "pygments_lexer": "ipython3",
   "version": "3.9.2"
  }
 },
 "nbformat": 4,
 "nbformat_minor": 5
}
